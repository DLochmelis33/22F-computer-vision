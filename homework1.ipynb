{
  "nbformat": 4,
  "nbformat_minor": 0,
  "metadata": {
    "colab": {
      "provenance": [],
      "collapsed_sections": [],
      "include_colab_link": true
    },
    "kernelspec": {
      "name": "python3",
      "display_name": "Python 3"
    },
    "language_info": {
      "name": "python"
    }
  },
  "cells": [
    {
      "cell_type": "markdown",
      "metadata": {
        "id": "view-in-github",
        "colab_type": "text"
      },
      "source": [
        "<a href=\"https://colab.research.google.com/github/DLochmelis33/22F-computer-vision/blob/main/homework1.ipynb\" target=\"_parent\"><img src=\"https://colab.research.google.com/assets/colab-badge.svg\" alt=\"Open In Colab\"/></a>"
      ]
    },
    {
      "cell_type": "markdown",
      "metadata": {
        "id": "sLB3yF4LxL0X"
      },
      "source": [
        "##Homework #1.\n",
        "##Image pre-processing.\n",
        "\n",
        "* Soft deadline: **15.09.2021 03:00:00 +0003 GMT** \n",
        "* Hard deadline: **22.09.2021 03:00:00 +0003 GMT**"
      ]
    },
    {
      "cell_type": "code",
      "metadata": {
        "id": "DhlVQCYBn4mp"
      },
      "source": [
        "import cv2\n",
        "import matplotlib.pylab as plt\n",
        "%matplotlib inline\n",
        "\n",
        "import numpy as np"
      ],
      "execution_count": null,
      "outputs": []
    },
    {
      "cell_type": "markdown",
      "metadata": {
        "id": "tLPuVH5-n4ms"
      },
      "source": [
        "##### Task 1 (3 points)\n",
        "\n",
        "Download *lena.jpg* into variable **lena**. Show resulting image at the screen. Make sure `opencv` open images in BGR format, convert **lena** into RGB using this methods: \n",
        "* with split & merge numpy functions\n",
        "* with smart slicing in numpy \n",
        "* with cvtColor from opencv"
      ]
    },
    {
      "cell_type": "code",
      "metadata": {
        "id": "jKltNKFfn4mt"
      },
      "source": [
        "## your code here"
      ],
      "execution_count": null,
      "outputs": []
    },
    {
      "cell_type": "markdown",
      "metadata": {
        "id": "9Laho1Gin4mv"
      },
      "source": [
        "##### Task 2 (3 point)\n",
        "\n",
        "Swap the upper left and lower right quarters of the image **lena** and show the result."
      ]
    },
    {
      "cell_type": "code",
      "metadata": {
        "id": "pT8v0KAZn4mw"
      },
      "source": [
        "## your code here"
      ],
      "execution_count": null,
      "outputs": []
    },
    {
      "cell_type": "markdown",
      "metadata": {
        "id": "1gyudAzln4mx"
      },
      "source": [
        "##### Task 3 (3 points)\n",
        "\n",
        "Use the mean value of the three color channels for each pixel of the **lena** as one-channel image **lena_gray_my**. Convert **lena** into gray using cvtColor. **lena_gray_cvt**. Compute the difference between **lena_gray_my** and **lena_gray_cvt** and show it. "
      ]
    },
    {
      "cell_type": "code",
      "metadata": {
        "id": "fYY_w7L1n4mz"
      },
      "source": [
        "## your code here"
      ],
      "execution_count": null,
      "outputs": []
    },
    {
      "cell_type": "markdown",
      "metadata": {
        "id": "UvlBoZKKn4m8"
      },
      "source": [
        "##### Task 4 (3 points)\n",
        "Convert **lena** into one of colorspaces (cvtColor) with \"brightness\" coordinate (HSV, HSL, HSB, CIE Lab), invert brightness , convert back into RGB. Show the result."
      ]
    },
    {
      "cell_type": "code",
      "metadata": {
        "id": "wnXQsEIvn4m9"
      },
      "source": [
        "## your code here"
      ],
      "execution_count": null,
      "outputs": []
    },
    {
      "cell_type": "markdown",
      "metadata": {
        "id": "3LTVoQJxn4m_"
      },
      "source": [
        "##### Task 5 (3 points)\n",
        "\n",
        "Using **lena** as input and generate 6 color images from all possible permutations of the r, g и b. channels. Make the gallery $3x2$ filled with this images and show this gallery. "
      ]
    },
    {
      "cell_type": "code",
      "metadata": {
        "id": "PUx5yiIc1JVC"
      },
      "source": [
        "## your code here"
      ],
      "execution_count": null,
      "outputs": []
    },
    {
      "cell_type": "markdown",
      "metadata": {
        "id": "TSpkmKJd1K3w"
      },
      "source": [
        "####Task 6 (3 points)\n",
        "Convert **lena** into grayscale. Apply histogramm normalization( 𝑛𝑜𝑟𝑚𝑎𝑙𝑖𝑧𝑒 ) and histogramm equalization ( 𝑒𝑞𝑢𝑎𝑙𝑖𝑧𝑒𝐻𝑖𝑠𝑡 ). Compute difference of images. Concat the result of linear stretching, equalization and their differences into one image in grayscale."
      ]
    },
    {
      "cell_type": "code",
      "metadata": {
        "id": "CItva_Rl1jVY"
      },
      "source": [
        "## your code here"
      ],
      "execution_count": null,
      "outputs": []
    },
    {
      "cell_type": "markdown",
      "metadata": {
        "id": "TXyXnr0I1jd4"
      },
      "source": [
        "####Task 7 (3 points)\n",
        "Implement the \"salt and pepper\" noise addition function for a single-channel image. Input parameters: $src$ – the original single–channel matrix $Mat$, $p$ – the probability of replacing the original values by $0$, $q$ - the probability of replacing the original values by $255$. Split the **lena** channels into separate matrices, add \"salt and pepper\" noise to each channel using the function you implemented with the parameters\n",
        "\n",
        "1. $p=q=0.05$\n",
        "2. $p=q=0.1$\n",
        "3. $p=q=0.15$"
      ]
    },
    {
      "cell_type": "code",
      "metadata": {
        "id": "E3oVm1MY10mO"
      },
      "source": [
        "## your code here"
      ],
      "execution_count": null,
      "outputs": []
    },
    {
      "cell_type": "markdown",
      "metadata": {
        "id": "BAngSKeg10u_"
      },
      "source": [
        "####Task 8 (3 points)\n",
        "Implement the spatial filtering function of the image with a homogeneous averaging filter of size $n\\times n$ (all mask coefficients are equal to $\\frac{1}{n^2}$). When calculating the average, use the fact that when moving from point to point, only a part of the image elements under the mask is updated. Apply the implemented filter to a previously grayscale image $lena.jpg$ when $n = 3$ and $n = 5$. Visualize an image representing the difference of the obtained filtering results."
      ]
    },
    {
      "cell_type": "code",
      "metadata": {
        "id": "EriLp5fi3Byd"
      },
      "source": [
        "## your code here"
      ],
      "execution_count": null,
      "outputs": []
    },
    {
      "cell_type": "markdown",
      "metadata": {
        "id": "hJNKKWgP3B76"
      },
      "source": [
        "####Task 9 (6 баллов) \n",
        "Using [widgets](https://ipywidgets.readthedocs.io/en/latest/examples/Widget%20List.html) create 2 sliders with parameters of gamma-correction function ($y = c*x^γ$). Show **lena**, gamma correction of **lena** and plot of $y = c*x^γ$ for x in [0;1] for $c$ and $γ$ selected with the widget sliders."
      ]
    },
    {
      "cell_type": "code",
      "metadata": {
        "id": "rJYxLn6D4G8b"
      },
      "source": [
        "## your code here"
      ],
      "execution_count": null,
      "outputs": []
    }
  ]
}